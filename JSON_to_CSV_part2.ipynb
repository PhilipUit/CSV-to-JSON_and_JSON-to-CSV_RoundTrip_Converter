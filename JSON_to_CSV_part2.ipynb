{
 "cells": [
  {
   "cell_type": "markdown",
   "metadata": {},
   "source": [
    "#### setup & checking data before completing part 2"
   ]
  },
  {
   "cell_type": "code",
   "execution_count": 1,
   "metadata": {},
   "outputs": [],
   "source": [
    "# opening complaints.json  -- accessing file\n",
    "\n",
    "json_text = []\n",
    "with open('complaints.json', 'r') as infile:\n",
    "    for line in infile:\n",
    "        json_text.append(line)"
   ]
  },
  {
   "cell_type": "code",
   "execution_count": 2,
   "metadata": {},
   "outputs": [],
   "source": [
    "#packages we will import and use. same as earlier\n",
    "import json\n",
    "import csv\n",
    "from pprint import pprint\n"
   ]
  },
  {
   "cell_type": "code",
   "execution_count": 3,
   "metadata": {},
   "outputs": [],
   "source": [
    "#alternatve ways to open as infile with reader\n",
    "with open('complaints.json', 'r', encoding=\"UTF-8\") as infile:\n",
    "    reader = csv.reader(infile)"
   ]
  },
  {
   "cell_type": "code",
   "execution_count": 4,
   "metadata": {},
   "outputs": [],
   "source": [
    "#alternatve ways to open as infile with reader\n",
    "with open('complaints.json', 'r', encoding=\"UTF-8\") as infile:\n",
    "    reader = csv.DictReader(infile)  # Notice the change to a DictReader here\n"
   ]
  },
  {
   "cell_type": "code",
   "execution_count": 5,
   "metadata": {},
   "outputs": [],
   "source": [
    "#pretty printing the object that is passed in\n",
    "\n",
    "\n",
    "import pprint\n",
    "def printplus(obj):\n",
    "    \"\"\"\n",
    "    Pretty-prints the object passed in.\n",
    "\n",
    "    \"\"\"\n",
    "    # Dict\n",
    "    if isinstance(obj, dict):\n",
    "        for k, v in sorted(obj.items()):\n",
    "            print (u'{0}: {1}'.format(k, v))\n",
    "\n",
    "    # List or tuple            \n",
    "    elif isinstance(obj, list) or isinstance(obj, tuple):\n",
    "        for x in obj:\n",
    "            print (x)\n",
    "\n",
    "    # Other\n",
    "    else:\n",
    "        print (obj)"
   ]
  },
  {
   "cell_type": "code",
   "execution_count": 6,
   "metadata": {},
   "outputs": [],
   "source": [
    "# You only have to import a library once\n",
    "\n",
    "with open('complaints.json', 'r', encoding=\"UTF-8\") as infile:\n",
    "    reader = csv.DictReader(infile)  # Notice the change to a DictReader here\n"
   ]
  },
  {
   "cell_type": "markdown",
   "metadata": {},
   "source": [
    "## Part 2 continued JSON>CSV"
   ]
  },
  {
   "cell_type": "markdown",
   "metadata": {},
   "source": [
    "#### Eager Evaluation & Abstraction \n",
    "Using abstraction with the variables -- this makes for easy code to replicate and uses in blocks in the future. this is more efficient and effective to simply adjust the filenames on the top, and then we should never need to adjust them anywhere throughout due to using variables in place of file names. AKA - using eager vs lazy evaluation programming."
   ]
  },
  {
   "cell_type": "markdown",
   "metadata": {},
   "source": [
    "## JSON > CSV"
   ]
  },
  {
   "cell_type": "code",
   "execution_count": 7,
   "metadata": {},
   "outputs": [],
   "source": [
    "#we simply plug in the files to the generalized version and it will populate a CSV file in our library\n",
    "\n",
    "csvFilePath = 'complaints.csv'\n",
    "jsonFilePath = 'complaints.json'\n",
    "\n",
    "# Read CSV file. \n",
    "with open(jsonFilePath, encoding=\"UTF-8\") as f:\n",
    "    reader = csv.DictReader(f)\n",
    "    rows = list(reader)\n",
    "    \n",
    "# Write JSON file to disk\n",
    "with open(csvFilePath, 'w', encoding=\"UTF-8\") as f:\n",
    "    json.dump(rows, f)\n"
   ]
  },
  {
   "cell_type": "code",
   "execution_count": 8,
   "metadata": {},
   "outputs": [],
   "source": [
    "#abstraction csv reader code into a function and generalizing it\n",
    "\n",
    "def myReader(jsonFilePath):\n",
    "    with open(jsonFilePath, encoding=\"UTF-8\") as f:\n",
    "        reader = csv.DictReader(f)\n",
    "        rows = list(reader)\n",
    "    fileparts = jsonFilePath.split(',')\n",
    "    print(fileparts)\n",
    "    return rows"
   ]
  },
  {
   "cell_type": "code",
   "execution_count": 9,
   "metadata": {},
   "outputs": [
    {
     "name": "stdout",
     "output_type": "stream",
     "text": [
      "['complaints.json']\n"
     ]
    }
   ],
   "source": [
    "# we see out rows as the complaints.json file\n",
    "theRows = myReader('complaints.json')"
   ]
  },
  {
   "cell_type": "markdown",
   "metadata": {},
   "source": [
    "We should see a succefully made csv file in our library with little to no change in the data. "
   ]
  },
  {
   "cell_type": "markdown",
   "metadata": {},
   "source": [
    "## Summary\n",
    "In conclusion, we described the difference between lazy & eager evaluation as well as creating a generalized CSV>JSON JSON>CSV \"roundtrip\" converter successfully. We were able to populate a new json file from just csv and csv file from just json. We were also succesfully able to convert the  Consumer Complaint Database data found at https://catalog.data.gov/dataset/consumer-complaint-database#topic=consumer_navigation with little to no change to the data after conversion. "
   ]
  }
 ],
 "metadata": {
  "kernelspec": {
   "display_name": "Python 3",
   "language": "python",
   "name": "python3"
  },
  "language_info": {
   "codemirror_mode": {
    "name": "ipython",
    "version": 3
   },
   "file_extension": ".py",
   "mimetype": "text/x-python",
   "name": "python",
   "nbconvert_exporter": "python",
   "pygments_lexer": "ipython3",
   "version": "3.8.3"
  }
 },
 "nbformat": 4,
 "nbformat_minor": 4
}
